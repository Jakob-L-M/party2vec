{
 "cells": [
  {
   "cell_type": "code",
   "execution_count": 14,
   "metadata": {},
   "outputs": [],
   "source": [
    "import pandas as pd\n",
    "import glob\n",
    "import re # RE specifies a set of strings that matches it\n",
    "from os import path"
   ]
  },
  {
   "cell_type": "code",
   "execution_count": 15,
   "metadata": {},
   "outputs": [],
   "source": [
    "# The method clears the text from umlauts, hashtags, emoticons, links and other non alphanumeric characters\n",
    "def cleanText(text):\n",
    "    # Replacing German umlauts with the corresponding English letters\n",
    "    text = text.replace(\"ä\",\"ae\").replace(\"Ä\",\"Äe\").replace(\"ö\",\"oe\").replace(\"Ö\",\"Oe\").replace(\"ü\",\"ue\").replace(\"Ü\",\"Ue\").replace(\"ß\",\"ss\")\n",
    "    text = re.sub(r\"@\\S+\", \"user\", text) # Replacing all tags to default \"user\"\n",
    "    # Deleting all hashtags, emoticons, links and non alphanumeric characters from the text\n",
    "    return ' '.join(re.sub(\"([^0-9A-Za-z \\t])|(\\w+:\\/\\/\\S+)\",\" \",text).split())    "
   ]
  },
  {
   "cell_type": "code",
   "execution_count": 16,
   "metadata": {
    "scrolled": true
   },
   "outputs": [],
   "source": [
    "dataframes = []\n",
    "names= []\n",
    "# read dataframes and save the name of each file\n",
    "for party in glob.glob('../data-mining/twitter-data/*.csv'):\n",
    "    dataframes.append(pd.read_csv(party))    \n",
    "    names += [path.basename(party)]\n",
    "# applying the cleanText method to each file and saving it to a cleaned-data folder    \n",
    "for counter, party_frame in enumerate(dataframes):    \n",
    "    party_frame['text'] = party_frame['text'].apply(cleanText)\n",
    "# Saving all edited data to csv\n",
    "    party_frame.to_csv('../cleaned-data/' + names[counter], index=False)\n",
    "    "
   ]
  },
  {
   "cell_type": "code",
   "execution_count": null,
   "metadata": {},
   "outputs": [],
   "source": []
  }
 ],
 "metadata": {
  "kernelspec": {
   "display_name": "Python 3",
   "language": "python",
   "name": "python3"
  },
  "language_info": {
   "codemirror_mode": {
    "name": "ipython",
    "version": 3
   },
   "file_extension": ".py",
   "mimetype": "text/x-python",
   "name": "python",
   "nbconvert_exporter": "python",
   "pygments_lexer": "ipython3",
   "version": "3.7.9"
  }
 },
 "nbformat": 4,
 "nbformat_minor": 4
}
