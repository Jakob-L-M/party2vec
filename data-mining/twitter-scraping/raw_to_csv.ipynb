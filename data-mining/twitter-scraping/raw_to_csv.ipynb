{
 "cells": [
  {
   "cell_type": "code",
   "execution_count": null,
   "metadata": {},
   "outputs": [],
   "source": [
    "import pandas as pd\n",
    "import glob\n",
    "import json"
   ]
  },
  {
   "cell_type": "code",
   "execution_count": null,
   "metadata": {},
   "outputs": [],
   "source": [
    "def extract_party_name(path):\n",
    "    return path[path.rindex('\\\\') + 1:]"
   ]
  },
  {
   "cell_type": "markdown",
   "metadata": {},
   "source": [
    "You can find some example data in our repo. (2 tweets per person, totaling 208 Tweets, hopefully 8 more is fine)\n",
    "\n",
    "Be aware the the complete output with all data can also be found at https://github.com/Jakob-L-M/party2vec/tree/main/data-mining/twitter-data"
   ]
  },
  {
   "cell_type": "code",
   "execution_count": null,
   "metadata": {},
   "outputs": [],
   "source": [
    "party_folders = glob.glob(r'./twitter-data/*')\n",
    "\n",
    "for party_folder in party_folders:\n",
    "    # Get all files in dir\n",
    "    patry_members = glob.glob(party_folder + '/*.txt')\n",
    "\n",
    "    # Init datafram and safe party name\n",
    "    party_frame = pd.DataFrame(columns=['date', 'username', 'text', 'link'])\n",
    "    party_name = extract_party_name(party_folder)\n",
    "\n",
    "    # Iterate over members\n",
    "    for member in patry_members:\n",
    "\n",
    "        file = open(member, mode='r', encoding='utf-8')\n",
    "\n",
    "        for line in file:\n",
    "            # load the line in a dictionary\n",
    "            content = json.loads(line)\n",
    "            \n",
    "            # Append data to Dataframe\n",
    "            # first 20 characters of url are always https://twitter.com/\n",
    "            party_frame = party_frame.append({'date': content['date'], 'username': content['user']['username'],\n",
    "                               'text': content['content'], 'link': content['url'][20:]}, ignore_index=True)\n",
    "        \n",
    "    # Convert time to datetime64\n",
    "    pd.to_datetime(party_frame['date'])\n",
    "    \n",
    "    # Once all members have been added to frame will be safed\n",
    "    party_frame.to_csv('../twitter-data/' + party_name + '.csv', index=False)"
   ]
  }
 ],
 "metadata": {
  "kernelspec": {
   "display_name": "Python 3",
   "language": "python",
   "name": "python3"
  },
  "language_info": {
   "codemirror_mode": {
    "name": "ipython",
    "version": 3
   },
   "file_extension": ".py",
   "mimetype": "text/x-python",
   "name": "python",
   "nbconvert_exporter": "python",
   "pygments_lexer": "ipython3",
   "version": "3.8.6"
  }
 },
 "nbformat": 4,
 "nbformat_minor": 4
}
