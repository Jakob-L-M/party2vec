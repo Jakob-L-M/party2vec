{
 "cells": [
  {
   "cell_type": "code",
   "execution_count": 2,
   "metadata": {},
   "outputs": [],
   "source": [
    "import pandas as pd\n",
    "import glob\n",
    "import os"
   ]
  },
  {
   "cell_type": "code",
   "execution_count": 3,
   "metadata": {},
   "outputs": [],
   "source": [
    "def extract_party_name(path):\n",
    "    path = path[path.rindex('\\\\') + 1:]\n",
    "    return path[:path.index('.')]"
   ]
  },
  {
   "cell_type": "code",
   "execution_count": null,
   "metadata": {},
   "outputs": [
    {
     "name": "stdout",
     "output_type": "stream",
     "text": [
      "['Alice_Weidel']\n",
      "['Alice_Weidel', 'Beatrix_vStorch']\n",
      "['Alice_Weidel', 'Beatrix_vStorch', 'GottfriedCurio']\n",
      "['Alice_Weidel', 'Beatrix_vStorch', 'GottfriedCurio', 'JoanaCotar']\n",
      "['Alice_Weidel', 'Beatrix_vStorch', 'GottfriedCurio', 'JoanaCotar', 'StBrandner']\n",
      "['Alice_Weidel', 'Beatrix_vStorch', 'GottfriedCurio', 'JoanaCotar', 'StBrandner', 'PetrBystronAfD']\n",
      "['Alice_Weidel', 'Beatrix_vStorch', 'GottfriedCurio', 'JoanaCotar', 'StBrandner', 'PetrBystronAfD', 'GtzFrmming']\n",
      "['Alice_Weidel', 'Beatrix_vStorch', 'GottfriedCurio', 'JoanaCotar', 'StBrandner', 'PetrBystronAfD', 'GtzFrmming', 'Tino_Chrupalla']\n",
      "['Alice_Weidel', 'Beatrix_vStorch', 'GottfriedCurio', 'JoanaCotar', 'StBrandner', 'PetrBystronAfD', 'GtzFrmming', 'Tino_Chrupalla', 'M_HarderKuehnel']\n",
      "['Alice_Weidel', 'Beatrix_vStorch', 'GottfriedCurio', 'JoanaCotar', 'StBrandner', 'PetrBystronAfD', 'GtzFrmming', 'Tino_Chrupalla', 'M_HarderKuehnel', 'CorinnaMiazga']\n",
      "['Alice_Weidel', 'Beatrix_vStorch', 'GottfriedCurio', 'JoanaCotar', 'StBrandner', 'PetrBystronAfD', 'GtzFrmming', 'Tino_Chrupalla', 'M_HarderKuehnel', 'CorinnaMiazga', 'Leif_Erik_Holm']\n",
      "['Alice_Weidel', 'Beatrix_vStorch', 'GottfriedCurio', 'JoanaCotar', 'StBrandner', 'PetrBystronAfD', 'GtzFrmming', 'Tino_Chrupalla', 'M_HarderKuehnel', 'CorinnaMiazga', 'Leif_Erik_Holm', 'Renner_AfD']\n",
      "['Alice_Weidel', 'Beatrix_vStorch', 'GottfriedCurio', 'JoanaCotar', 'StBrandner', 'PetrBystronAfD', 'GtzFrmming', 'Tino_Chrupalla', 'M_HarderKuehnel', 'CorinnaMiazga', 'Leif_Erik_Holm', 'Renner_AfD', 'UdoHemmelgarn']\n",
      "['Alice_Weidel', 'Beatrix_vStorch', 'GottfriedCurio', 'JoanaCotar', 'StBrandner', 'PetrBystronAfD', 'GtzFrmming', 'Tino_Chrupalla', 'M_HarderKuehnel', 'CorinnaMiazga', 'Leif_Erik_Holm', 'Renner_AfD', 'UdoHemmelgarn', 'M_Reichardt_AfD']\n",
      "['Alice_Weidel', 'Beatrix_vStorch', 'GottfriedCurio', 'JoanaCotar', 'StBrandner', 'PetrBystronAfD', 'GtzFrmming', 'Tino_Chrupalla', 'M_HarderKuehnel', 'CorinnaMiazga', 'Leif_Erik_Holm', 'Renner_AfD', 'UdoHemmelgarn', 'M_Reichardt_AfD', 'R_Hartwig_AfD']\n",
      "['Alice_Weidel', 'Beatrix_vStorch', 'GottfriedCurio', 'JoanaCotar', 'StBrandner', 'PetrBystronAfD', 'GtzFrmming', 'Tino_Chrupalla', 'M_HarderKuehnel', 'CorinnaMiazga', 'Leif_Erik_Holm', 'Renner_AfD', 'UdoHemmelgarn', 'M_Reichardt_AfD', 'R_Hartwig_AfD', 'peteraltmaier']\n",
      "^C\n",
      "['Alice_Weidel', 'Beatrix_vStorch', 'GottfriedCurio', 'JoanaCotar', 'StBrandner', 'PetrBystronAfD', 'GtzFrmming', 'Tino_Chrupalla', 'M_HarderKuehnel', 'CorinnaMiazga', 'Leif_Erik_Holm', 'Renner_AfD', 'UdoHemmelgarn', 'M_Reichardt_AfD', 'R_Hartwig_AfD', 'peteraltmaier', 'jensspahn']\n",
      "^C\n",
      "['Alice_Weidel', 'Beatrix_vStorch', 'GottfriedCurio', 'JoanaCotar', 'StBrandner', 'PetrBystronAfD', 'GtzFrmming', 'Tino_Chrupalla', 'M_HarderKuehnel', 'CorinnaMiazga', 'Leif_Erik_Holm', 'Renner_AfD', 'UdoHemmelgarn', 'M_Reichardt_AfD', 'R_Hartwig_AfD', 'peteraltmaier', 'jensspahn', 'n_roettgen']\n"
     ]
    }
   ],
   "source": [
    "files = glob.glob('..\\\\party_frames\\\\' + '*.csv')\n",
    "\n",
    "profiles_scraped = ['Alice_Weidel', 'Beatrix_vStorch', 'GottfriedCurio', 'JoanaCotar', 'StBrandner', 'PetrBystronAfD', 'GtzFrmming', 'Tino_Chrupalla', 'M_HarderKuehnel', 'CorinnaMiazga', 'Leif_Erik_Holm', 'Renner_AfD', 'UdoHemmelgarn', 'M_Reichardt_AfD', 'R_Hartwig_AfD', 'peteraltmaier', 'jensspahn', 'n_roettgen']\n",
    "\n",
    "for file in files:\n",
    "    party = extract_party_name(file)\n",
    "    frame = pd.read_csv(file).head(15)\n",
    "    \n",
    "    if not os.path.exists('./twitter-data/' + party):\n",
    "        os.makedirs('./twitter-data/' + party)\n",
    "    \n",
    "    for profile in frame['profile_link'].to_numpy():\n",
    "        link = profile\n",
    "        link = link[link.rindex('/') + 1:]\n",
    "        if link not in profiles_scraped:\n",
    "            !snscrape --jsonl --since=\"2017-9-24\" twitter-user $link > twitter-data/$party\"\"/$link\"\".txt\n",
    "            profiles_scraped.append(link)\n",
    "            print(profiles_scraped)"
   ]
  }
 ],
 "metadata": {
  "kernelspec": {
   "display_name": "Python 3",
   "language": "python",
   "name": "python3"
  },
  "language_info": {
   "codemirror_mode": {
    "name": "ipython",
    "version": 3
   },
   "file_extension": ".py",
   "mimetype": "text/x-python",
   "name": "python",
   "nbconvert_exporter": "python",
   "pygments_lexer": "ipython3",
   "version": "3.8.6"
  }
 },
 "nbformat": 4,
 "nbformat_minor": 4
}
