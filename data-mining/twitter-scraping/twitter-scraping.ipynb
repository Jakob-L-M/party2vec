{
 "cells": [
  {
   "cell_type": "code",
   "execution_count": null,
   "metadata": {},
   "outputs": [],
   "source": [
    "import pandas as pd\n",
    "import glob\n",
    "import os"
   ]
  },
  {
   "cell_type": "code",
   "execution_count": null,
   "metadata": {},
   "outputs": [],
   "source": [
    "def extract_party_name(path):\n",
    "    path = path[path.rindex('\\\\') + 1:]\n",
    "    return path[:path.index('.')]"
   ]
  },
  {
   "cell_type": "code",
   "execution_count": null,
   "metadata": {},
   "outputs": [],
   "source": [
    "files = glob.glob('..\\\\party-frames\\\\' + '*.csv')\n",
    "\n",
    "profiles_scraped = []\n",
    "\n",
    "for file in files:\n",
    "    party = extract_party_name(file)\n",
    "    frame = pd.read_csv(file).head(15)\n",
    "    \n",
    "    if not os.path.exists('./twitter-data/' + party):\n",
    "        os.makedirs('./twitter-data/' + party)\n",
    "    \n",
    "    for profile in frame['profile_link'].to_numpy():\n",
    "        link = profile\n",
    "        link = link[link.rindex('/') + 1:]\n",
    "        if link not in profiles_scraped:\n",
    "            path = r\"twitter-data/\" + party + \"/\" + link + \".txt\"\n",
    "            !snscrape --jsonl --since=\"2017-9-24\" twitter-user $link > $path\n",
    "            profiles_scraped.append(link)\n",
    "            print(link)"
   ]
  }
 ],
 "metadata": {
  "kernelspec": {
   "display_name": "Python 3",
   "language": "python",
   "name": "python3"
  },
  "language_info": {
   "codemirror_mode": {
    "name": "ipython",
    "version": 3
   },
   "file_extension": ".py",
   "mimetype": "text/x-python",
   "name": "python",
   "nbconvert_exporter": "python",
   "pygments_lexer": "ipython3",
   "version": "3.8.6"
  }
 },
 "nbformat": 4,
 "nbformat_minor": 4
}
