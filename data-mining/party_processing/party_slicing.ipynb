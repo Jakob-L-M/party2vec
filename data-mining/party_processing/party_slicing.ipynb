{
 "cells": [
  {
   "cell_type": "markdown",
   "metadata": {},
   "source": [
    "# This notebook is used to split the main dataframe into party-dataframes"
   ]
  },
  {
   "cell_type": "code",
   "execution_count": null,
   "metadata": {},
   "outputs": [],
   "source": [
    "import pandas as pd"
   ]
  },
  {
   "cell_type": "code",
   "execution_count": null,
   "metadata": {},
   "outputs": [],
   "source": [
    "main_df = pd.read_csv('MdB_parties.csv').sort_values(by=['followers_count'], ascending=False)\n",
    "\n",
    "parties = ['AfD', 'CDU', 'DIE LINKE.', 'SPD', 'BÜNDNIS 90/DIE GRÜNEN', 'FDP', 'CSU']\n",
    "names = ['AfD', 'CDU', 'LINKE', 'SPD', 'GRÜNE', 'FDP', 'CSU']\n",
    "\n",
    "for ind, party in enumerate(parties):\n",
    "    main_df[main_df['party'] == party].to_csv('../party_frames/'+ names[ind] + '.csv')"
   ]
  }
 ],
 "metadata": {
  "kernelspec": {
   "display_name": "Python 3",
   "language": "python",
   "name": "python3"
  },
  "language_info": {
   "codemirror_mode": {
    "name": "ipython",
    "version": 3
   },
   "file_extension": ".py",
   "mimetype": "text/x-python",
   "name": "python",
   "nbconvert_exporter": "python",
   "pygments_lexer": "ipython3",
   "version": "3.8.6"
  }
 },
 "nbformat": 4,
 "nbformat_minor": 4
}
