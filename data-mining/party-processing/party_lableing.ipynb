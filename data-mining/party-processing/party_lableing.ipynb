{
 "cells": [
  {
   "cell_type": "code",
   "execution_count": null,
   "metadata": {},
   "outputs": [],
   "source": [
    "import pandas as pd\n",
    "import xml.etree.ElementTree as ET"
   ]
  },
  {
   "cell_type": "markdown",
   "metadata": {},
   "source": [
    "### Creating mdb_parties csv\n",
    "The file MDB_STAMMDATEN.xml can be found here [Open Data Bundestag](https://www.bundestag.de/services/opendata) (12.03.21)"
   ]
  },
  {
   "cell_type": "code",
   "execution_count": null,
   "metadata": {},
   "outputs": [],
   "source": [
    "xml_data = open('MDB_STAMMDATEN.xml', 'r', encoding='utf-8').read()  # Read file\n",
    "root = ET.XML(xml_data)\n",
    "\n",
    "# skipping Version entry\n",
    "skip = True\n",
    "\n",
    "tags = {\"tags\":[]}\n",
    "for elem in root:\n",
    "    \n",
    "    # skipping Version entry\n",
    "    if skip:\n",
    "        skip = False\n",
    "        continue\n",
    "        \n",
    "    # dic for tags\n",
    "    tag = {}\n",
    "    # XML selection\n",
    "    NAME = list(list(list(elem)[1])[-1])\n",
    "    PARTEI = list(list(elem)[2])[8]\n",
    "    WAHLPERIODEN = list(list(elem)[3])\n",
    "    tag[\"name\"] = NAME[0].text\n",
    "    tag[\"first_name\"] = NAME[1].text\n",
    "    tag[\"party\"] = PARTEI.text\n",
    "    tag[\"WP\"] = [i[0].text for i in WAHLPERIODEN]\n",
    "    tags[\"tags\"].append(tag)\n",
    "\n",
    "df_mdb = pd.DataFrame(tags[\"tags\"])\n",
    "mask = df_mdb['WP'].apply(lambda x: '19' in x)\n",
    "df = df_mdb[mask]\n",
    "df[['name', 'first_name', 'party']].to_csv('parties.csv', index=False)"
   ]
  },
  {
   "cell_type": "markdown",
   "metadata": {},
   "source": [
    "### Merging Mdb.csv and mdb_parties.csv"
   ]
  },
  {
   "cell_type": "code",
   "execution_count": null,
   "metadata": {},
   "outputs": [],
   "source": [
    "mdb = pd.read_csv('mdb.csv')\n",
    "parties = pd.read_csv('parties.csv')\n",
    "\n",
    "MdB_parties = pd.merge(mdb, parties, how='left', on=['name', 'first_name'])\n",
    "\n",
    "MdB_parties.to_csv('MdB_parties.csv', index=False)"
   ]
  }
 ],
 "metadata": {
  "kernelspec": {
   "display_name": "Python 3",
   "language": "python",
   "name": "python3"
  },
  "language_info": {
   "codemirror_mode": {
    "name": "ipython",
    "version": 3
   },
   "file_extension": ".py",
   "mimetype": "text/x-python",
   "name": "python",
   "nbconvert_exporter": "python",
   "pygments_lexer": "ipython3",
   "version": "3.8.6"
  }
 },
 "nbformat": 4,
 "nbformat_minor": 4
}
