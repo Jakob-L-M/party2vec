{
 "cells": [
  {
   "cell_type": "code",
   "execution_count": null,
   "metadata": {},
   "outputs": [],
   "source": [
    "import pandas as pd\n",
    "import matplotlib.pyplot as plt\n",
    "import glob"
   ]
  },
  {
   "cell_type": "code",
   "execution_count": null,
   "metadata": {},
   "outputs": [],
   "source": [
    "dataframes = []\n",
    "# read dataframes\n",
    "for party in glob.glob('*.csv'):\n",
    "    dataframes.append(pd.read_csv(party))\n",
    "\n",
    "# cut off everything after 12th of May 2021\n",
    "for frame in dataframes:\n",
    "    frame = frame[frame['date'] < '2021-05-12']"
   ]
  },
  {
   "cell_type": "code",
   "execution_count": null,
   "metadata": {},
   "outputs": [],
   "source": [
    "labels = ['Afd', 'CDU', 'CSU', 'FDP', 'B90/GÜRNE', 'LINKE', 'SPD']\n",
    "colors = ['#3D3BFB', '#6F6F6F', '#73F0F8', '#F3FF56', '#52B11F', '#9E49C0', '#E93333']"
   ]
  },
  {
   "cell_type": "code",
   "execution_count": null,
   "metadata": {},
   "outputs": [],
   "source": [
    "# Number of Tweets for each party\n",
    "weight = [len(df) for df in dataframes]\n",
    "total = sum(weight)\n",
    "fig1, ax1 = plt.subplots(figsize=(10,10))\n",
    "ax1.pie(weight, labels=labels, colors=colors, explode=[0.05]*7, shadow=True, startangle=45,autopct=lambda p: f'{p*total/100:.0f}',pctdistance=0.8);\n",
    "\n",
    "centre_circle = plt.Circle((0,0),0.70,fc='white')\n",
    "fig = plt.gcf()\n",
    "fig.gca().add_artist(centre_circle);\n",
    "fig.savefig('img/pie_number_of_tweets.png', facecolor='white')"
   ]
  },
  {
   "cell_type": "code",
   "execution_count": null,
   "metadata": {},
   "outputs": [],
   "source": [
    "# init empty df\n",
    "monthly_df = pd.DataFrame(columns=labels)\n",
    "# Generate month form 01.10.2017 to 01.05.2021\n",
    "months = pd.date_range(\"2017-09-27\", periods=44, freq=\"M\") + pd.Timedelta(\"1 day\")\n",
    "\n",
    "for ind, month in enumerate(months[:-1]):\n",
    "    d = {}\n",
    "    for jnd,party in enumerate(dataframes):\n",
    "        temp = party[(party['date'] >= str(month)) & (party['date'] < str(months[ind+1]))]\n",
    "        d[labels[jnd]] = len(temp)\n",
    "    monthly_df = monthly_df.append(pd.Series(d, name=str(month.month)+'. '+str(month.year)))"
   ]
  },
  {
   "cell_type": "code",
   "execution_count": null,
   "metadata": {},
   "outputs": [],
   "source": [
    "monthly_df.plot(kind='bar', stacked=True,figsize=(12,12),color=colors)\n",
    "plt.title(\"Number of Tweets per Month from October 2017 to May 2021\")\n",
    "plt.xlabel(\"Month\")\n",
    "plt.ylabel(\"Number of Tweets\");\n",
    "plt.savefig('img/monthly_tweets.png', facecolor='white')"
   ]
  }
 ],
 "metadata": {
  "kernelspec": {
   "display_name": "Python 3",
   "language": "python",
   "name": "python3"
  },
  "language_info": {
   "codemirror_mode": {
    "name": "ipython",
    "version": 3
   },
   "file_extension": ".py",
   "mimetype": "text/x-python",
   "name": "python",
   "nbconvert_exporter": "python",
   "pygments_lexer": "ipython3",
   "version": "3.8.8"
  }
 },
 "nbformat": 4,
 "nbformat_minor": 4
}
