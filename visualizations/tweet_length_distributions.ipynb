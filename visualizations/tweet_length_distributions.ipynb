{
 "cells": [
  {
   "cell_type": "code",
   "execution_count": null,
   "metadata": {},
   "outputs": [],
   "source": [
    "import pandas as pd\n",
    "import numpy as np\n",
    "import seaborn as sn\n",
    "import matplotlib.pyplot as plt"
   ]
  },
  {
   "cell_type": "code",
   "execution_count": null,
   "metadata": {},
   "outputs": [],
   "source": [
    "data = pd.DataFrame(columns=['tweet', 'party'])\n",
    "\n",
    "afd = pd.read_csv('../cleaned-data/AfD.csv')['text']\n",
    "afd = pd.DataFrame([[i, 0] for i in afd], columns=['tweet', 'party'])\n",
    "\n",
    "data = data.append(afd, ignore_index=True)\n",
    "\n",
    "cdu = pd.read_csv('../cleaned-data/CDU.csv')['text']\n",
    "csu = pd.read_csv('../cleaned-data/CSU.csv')['text']\n",
    "\n",
    "cdu = pd.DataFrame([[i, 1] for i in cdu], columns=['tweet', 'party'])\n",
    "csu = pd.DataFrame([[i, 1] for i in csu], columns=['tweet', 'party'])\n",
    "\n",
    "data = data.append(cdu, ignore_index=True)\n",
    "data = data.append(csu, ignore_index=True)\n",
    "\n",
    "fdp = pd.read_csv('../cleaned-data/FDP.csv')['text']\n",
    "fdp = pd.DataFrame([[i, 2] for i in fdp], columns=['tweet', 'party'])\n",
    "\n",
    "data = data.append(fdp, ignore_index=True)\n",
    "\n",
    "gru = pd.read_csv('../cleaned-data/GRÜNE.csv')['text']\n",
    "gru = pd.DataFrame([[i, 3] for i in gru], columns=['tweet', 'party'])\n",
    "\n",
    "data = data.append(gru, ignore_index=True)\n",
    "\n",
    "lin = pd.read_csv('../cleaned-data/LINKE.csv')['text']\n",
    "lin = pd.DataFrame([[i, 4] for i in lin], columns=['tweet', 'party'])\n",
    "\n",
    "data = data.append(lin, ignore_index=True)\n",
    "\n",
    "spd = pd.read_csv('../cleaned-data/SPD.csv')['text']\n",
    "spd = pd.DataFrame([[i, 5] for i in spd], columns=['tweet', 'party'])\n",
    "\n",
    "data = data.append(spd, ignore_index=True).dropna()"
   ]
  },
  {
   "cell_type": "code",
   "execution_count": null,
   "metadata": {},
   "outputs": [],
   "source": [
    "tweet_len = np.array([len(tweet.split(\" \")) for tweet in data['tweet']])\n",
    "tweet_amount = [np.sum(tweet_len == i) for i in range(max(tweet_len))]"
   ]
  },
  {
   "cell_type": "code",
   "execution_count": null,
   "metadata": {},
   "outputs": [],
   "source": [
    "fig, host = plt.subplots(figsize=(14,7))\n",
    "\n",
    "par1 = host.twinx()\n",
    "\n",
    "host.set_xlabel(\"Number of Appearances\")\n",
    "host.set_ylabel(\"Number of Tweets\")\n",
    "par1.set_ylabel(\"Cumulative Density\")\n",
    "\n",
    "host.bar(range(len(tweet_amount)), tweet_amount, color = 'lightblue')\n",
    "\n",
    "x = range(0, len(tweet_amount))\n",
    "y = [np.sum(tweet_amount[0:i])/np.sum(tweet_amount) for i in x]\n",
    "par1.plot(x, y, 'r--');\n",
    "\n",
    "par1.scatter([20,30,40,50], [y[20], y[30], y[40], y[50]], color = 'black')\n",
    "par1.annotate(f'{y[20]*100:.2f}%', (20-0.05, y[20]-0.04))\n",
    "par1.annotate(f'{y[30]*100:.2f}%', (30-0.05, y[30]-0.04))\n",
    "par1.annotate(f'{y[40]*100:.2f}%', (40-0.05, y[40]-0.04))\n",
    "par1.annotate(f'{y[50]*100:.2f}%', (50-0.05, y[50]-0.04));\n",
    "\n",
    "fig.savefig('number_of_words_distribution.png')"
   ]
  }
 ],
 "metadata": {
  "kernelspec": {
   "display_name": "Python 3",
   "language": "python",
   "name": "python3"
  },
  "language_info": {
   "codemirror_mode": {
    "name": "ipython",
    "version": 3
   },
   "file_extension": ".py",
   "mimetype": "text/x-python",
   "name": "python",
   "nbconvert_exporter": "python",
   "pygments_lexer": "ipython3",
   "version": "3.8.6"
  }
 },
 "nbformat": 4,
 "nbformat_minor": 4
}
