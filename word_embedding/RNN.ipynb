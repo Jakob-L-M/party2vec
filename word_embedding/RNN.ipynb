{
 "cells": [
  {
   "cell_type": "code",
   "execution_count": 4,
   "id": "ebdf4b83",
   "metadata": {},
   "outputs": [],
   "source": [
    "# imports\n",
    "import numpy as np\n",
    "import tensorflow as tf\n",
    "from tensorflow.keras import Model, Input\n",
    "from tensorflow.keras.layers import (\n",
    "    Embedding,\n",
    "    Dense,\n",
    "    LSTM,\n",
    "    Dropout,\n",
    "    Bidirectional,\n",
    ")\n"
   ]
  },
  {
   "cell_type": "code",
   "execution_count": 1,
   "id": "11df107b",
   "metadata": {},
   "outputs": [],
   "source": [
    "# Deep learning: \n",
    "\n",
    "class RnnModel():\n",
    "\n",
    "    def __init__(self, embedding_matrix, embedding_dim, max_len, X_additional=None, label = \"\"):\n",
    "        \n",
    "        inp1 = Input(shape=(max_len,))\n",
    "        x = Embedding(embedding_matrix.shape[0], embedding_dim, weights=[embedding_matrix])(inp1)\n",
    "        x = Bidirectional(LSTM(256, return_sequences=True))(x)\n",
    "        x = Bidirectional(LSTM(150))(x)\n",
    "        x = Dense(128, activation=\"relu\")(x)\n",
    "        x = Dropout(0.1)(x)\n",
    "        x = Dense(64, activation=\"relu\")(x)\n",
    "        x = Dense(1, activation=\"sigmoid\")(x)    \n",
    "        model = Model(inputs=inp1, outputs=x)\n",
    "        # bidirectional\n",
    "        # mit 1 -> 'mse'\n",
    "        # mit 6 -> 'binary_crossentropy', softmax statt sigmoid\n",
    "        model.compile(loss = 'binary_crossentropy', optimizer = 'adam')\n",
    "        self.model = model\n",
    "        self.label = label"
   ]
  },
  {
   "cell_type": "code",
   "execution_count": null,
   "id": "19776cc0",
   "metadata": {},
   "outputs": [],
   "source": []
  },
  {
   "cell_type": "code",
   "execution_count": 6,
   "id": "84177773",
   "metadata": {},
   "outputs": [],
   "source": [
    "class all_party_train:\n",
    "    def __init__(\n",
    "        self,\n",
    "        X_train: list,\n",
    "        Y_train: list,\n",
    "        embed_matrix,\n",
    "        max_len,\n",
    "        labels,\n",
    "        X_test=[],\n",
    "        Y_test=[],\n",
    "        epochs=3,\n",
    "        batch_size=1024,\n",
    "    ):\n",
    "\n",
    "        self.models = []\n",
    "        self.yhat_list = []\n",
    "        self.acc_list = []\n",
    "\n",
    "        for number, label in enumerate(labels):\n",
    "            # Creating the model\n",
    "            rnn = RnnModel(\n",
    "                embedding_matrix=embed_matrix,\n",
    "                embedding_dim=len(embed_matrix[0]),\n",
    "                max_len=max_len,\n",
    "                label=label,\n",
    "            )\n",
    "            # ajust label to current party\n",
    "            Y = np.array([1 if y_t == number else 0 for y_t in Y_train], np.int8)\n",
    "            rnn.model.fit(X_train, Y, batch_size=batch_size, epochs=epochs)\n",
    "            self.models.append(rnn.model)\n",
    "\n",
    "        if len(X_test) > 0:\n",
    "            for number, model in enumerate(self.models): \n",
    "                yhat = [x[0] for x in model.predict(X_test).tolist()]\n",
    "                self.yhat_list.append(yhat)\n",
    "\n",
    "                # If true labels are provided we calculate the accuracy of the model\n",
    "                if len(Y_test) > 0:\n",
    "                    ytest = np.array([1 if y_te == number else 0 for y_te in Y_test])\n",
    "                    acc = accuracy_score(ytest, [1 if x > 0.5 else 0 for x in yhat])\n",
    "                    self.acc_list.append(acc)"
   ]
  },
  {
   "cell_type": "code",
   "execution_count": null,
   "id": "76bb80c9",
   "metadata": {},
   "outputs": [],
   "source": []
  }
 ],
 "metadata": {
  "kernelspec": {
   "display_name": "intro2nlp",
   "language": "python",
   "name": "intro2nlp"
  },
  "language_info": {
   "codemirror_mode": {
    "name": "ipython",
    "version": 3
   },
   "file_extension": ".py",
   "mimetype": "text/x-python",
   "name": "python",
   "nbconvert_exporter": "python",
   "pygments_lexer": "ipython3",
   "version": "3.8.8"
  }
 },
 "nbformat": 4,
 "nbformat_minor": 5
}
